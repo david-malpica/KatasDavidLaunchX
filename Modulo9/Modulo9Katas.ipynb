{
 "cells": [
  {
   "cell_type": "markdown",
   "metadata": {},
   "source": [
    "## Ejercicio: Uso de funciones en Python"
   ]
  },
  {
   "cell_type": "code",
   "execution_count": null,
   "metadata": {},
   "outputs": [],
   "source": [
    "# Función para leer 3 tanques de combustible y muestre el promedio\n",
    "def rocket_tanks(tank1, tank2, tank3):\n",
    "    return (tank1 + tank2 + tank3)/3\n",
    "\n",
    "\n",
    "print(rocket_tanks(0,0,0))"
   ]
  },
  {
   "cell_type": "code",
   "execution_count": null,
   "metadata": {},
   "outputs": [],
   "source": [
    "# Función promedio \n",
    "\n",
    "def average (nums):\n",
    "    suma = sum(nums)\n",
    "    return suma/len(nums)"
   ]
  },
  {
   "cell_type": "code",
   "execution_count": null,
   "metadata": {},
   "outputs": [],
   "source": [
    "def tanks(tanque_principal, tanque_externo, tanque_reserva):\n",
    "    return f''' Combusible total: {average([tanque_principal, tanque_externo, tanque_reserva])}%\n",
    "    Tanque principal: {tanque_principal}%\n",
    "    Tanque externo: {tanque_externo}%\n",
    "    Tanque de reserva: {tanque_reserva}%\n",
    "    '''\n",
    "\n",
    "tanks(30,40,90)"
   ]
  },
  {
   "cell_type": "markdown",
   "metadata": {},
   "source": [
    "## Ejercicio 2: Trabajo con argumentos de palabra clave"
   ]
  },
  {
   "cell_type": "code",
   "execution_count": null,
   "metadata": {},
   "outputs": [],
   "source": [
    "# Función con un informe preciso de la misión. Considera hora de prelanzamiento, tiempo de vuelo, destino, tanque externo y tanque interno\n",
    "\n",
    "def report(destination, external_tank, intern_tank, sequence_time, arrival_time):\n",
    "    return f''' Mision a: {destination},\n",
    "    Llegada en: {arrival_time + sequence_time} minutos,\n",
    "    Niveles de combustible: {external_tank + intern_tank} litros.\n",
    "    '''"
   ]
  },
  {
   "cell_type": "code",
   "execution_count": null,
   "metadata": {},
   "outputs": [],
   "source": [
    "def mision_report(destination, *minutes, **fuel_reservois):\n",
    "    return f''' Mision a: {destination},\n",
    "    Tiempo de llegada: {sum(minutes)} minutos,\n",
    "    Niveles de combustible: {sum(fuel_reservois.values())} litros.\n",
    "    '''\n"
   ]
  },
  {
   "cell_type": "code",
   "execution_count": null,
   "metadata": {},
   "outputs": [],
   "source": [
    "def mision_report(destination, external_tank, intern_tank, *minutes, **fuel_reservois):\n",
    "    return f''' Mision a: {destination},\n",
    "    Tiempo de llegada: {sum(minutes)} minutos,\n",
    "    Niveles total de combustible: {sum(external_tank, intern_tank, fuel_reservois.values())} litros,\n",
    "    Nivel del tanque externo: {external_tank} litros,\n",
    "    Nivel del tanque interno: {intern_tank} litros,\n",
    "    Nivel de los tanques de reserva: {sum(fuel_reservois.values())}\n",
    "    '''"
   ]
  }
 ],
 "metadata": {
  "interpreter": {
   "hash": "6e82c4c6859ff44c5ac5d0b812fe5a23106e52b81a5db5555ef903c501738654"
  },
  "kernelspec": {
   "display_name": "Python 3.10.1 64-bit",
   "language": "python",
   "name": "python3"
  },
  "language_info": {
   "codemirror_mode": {
    "name": "ipython",
    "version": 3
   },
   "file_extension": ".py",
   "mimetype": "text/x-python",
   "name": "python",
   "nbconvert_exporter": "python",
   "pygments_lexer": "ipython3",
   "version": "3.10.1"
  },
  "orig_nbformat": 4
 },
 "nbformat": 4,
 "nbformat_minor": 2
}
