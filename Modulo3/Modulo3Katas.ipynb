{
 "cells": [
  {
   "cell_type": "markdown",
   "metadata": {},
   "source": [
    "## Operadores if, else y elif"
   ]
  },
  {
   "cell_type": "code",
   "execution_count": null,
   "metadata": {},
   "outputs": [],
   "source": [
    "# Velocidad actual del asteroide\n",
    "speedAsteroid = 49\n",
    "# Velocidad limite del asteroide al acercarse a la tierra\n",
    "limitAsteroid = 25\n",
    "\n",
    "if speedAsteroid > limitAsteroid:\n",
    "    print(\"!Se acerca un asteroide a la tierra!\")\n",
    "elif speedAsteroid == limitAsteroid:\n",
    "    print(\"Hay un asteriode cerca de la tierra\")\n",
    "else:\n",
    "    print(\"No hay nada en el cielo\")    "
   ]
  },
  {
   "cell_type": "code",
   "execution_count": null,
   "metadata": {},
   "outputs": [],
   "source": [
    "# Velocidad actual del asteroide\n",
    "speedAsteroid = 19\n",
    "# Velocidad del asteroide para producir rayo de luz al acercarse a la tierra\n",
    "lightAsteroid = 20\n",
    "\n",
    "if speedAsteroid >= lightAsteroid:\n",
    "    print(\"Hay un asteroide en el cielo\")\n",
    "elif speedAsteroid == lightAsteroid:\n",
    "    print(\"Hay un asteroide en el cielo\")\n",
    "else:\n",
    "    print(\"No hay nada en el cielo\")"
   ]
  },
  {
   "cell_type": "markdown",
   "metadata": {},
   "source": [
    "## Operadores and y or"
   ]
  },
  {
   "cell_type": "code",
   "execution_count": null,
   "metadata": {},
   "outputs": [],
   "source": [
    "# Velocidad del asteroide para producir rayo de luz al acercarse a la tierra\n",
    "lightAsteroid = 20\n",
    "# Velocidad actual del asteroide\n",
    "speedAsteroid = int(input(\"Escribe la velocidad del asteroide\"))\n",
    "# Tamaño actual del asteroide\n",
    "sizeAsteroid = int(input(\"Escribe el tamaño del asteroide\"))\n",
    "\n",
    "if speedAsteroid < 25 and sizeAsteroid < 25 and speedAsteroid >= lightAsteroid:\n",
    "    print(\"El asteroide es visible, no representa ningun peligro\")\n",
    "elif speedAsteroid < 25 and sizeAsteroid < 25 and speedAsteroid < lightAsteroid:\n",
    "    print(\"No hay nada en el cielo\")\n",
    "elif speedAsteroid >= 25 and sizeAsteroid >= 25:\n",
    "    print (\"!Peligro, se acerca un asteroide¡\")\n",
    "else:\n",
    "    print(\"No hay nada en el cielo\")"
   ]
  }
 ],
 "metadata": {
  "interpreter": {
   "hash": "6e82c4c6859ff44c5ac5d0b812fe5a23106e52b81a5db5555ef903c501738654"
  },
  "kernelspec": {
   "display_name": "Python 3.10.1 64-bit",
   "language": "python",
   "name": "python3"
  },
  "language_info": {
   "codemirror_mode": {
    "name": "ipython",
    "version": 3
   },
   "file_extension": ".py",
   "mimetype": "text/x-python",
   "name": "python",
   "nbconvert_exporter": "python",
   "pygments_lexer": "ipython3",
   "version": "3.10.1"
  },
  "orig_nbformat": 4
 },
 "nbformat": 4,
 "nbformat_minor": 2
}
